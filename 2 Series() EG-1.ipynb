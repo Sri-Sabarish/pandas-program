{
 "cells": [
  {
   "cell_type": "code",
   "execution_count": 3,
   "id": "8f87bfc8-d30a-4b91-b921-bed008f2efd0",
   "metadata": {},
   "outputs": [
    {
     "data": {
      "text/plain": [
       "0     Apple\n",
       "1    Banana\n",
       "2    Orange\n",
       "3    Grapes\n",
       "dtype: object"
      ]
     },
     "execution_count": 3,
     "metadata": {},
     "output_type": "execute_result"
    }
   ],
   "source": [
    "import pandas as pd\n",
    "Fruits=[\"Apple\",\"Banana\",\"Orange\",\"Grapes\"]\n",
    "pd.Series(Fruits)"
   ]
  },
  {
   "cell_type": "code",
   "execution_count": null,
   "id": "baee3e46-97a0-4df3-89a7-f2c6b145d8e2",
   "metadata": {},
   "outputs": [],
   "source": []
  }
 ],
 "metadata": {
  "kernelspec": {
   "display_name": "Python 3 (ipykernel)",
   "language": "python",
   "name": "python3"
  },
  "language_info": {
   "codemirror_mode": {
    "name": "ipython",
    "version": 3
   },
   "file_extension": ".py",
   "mimetype": "text/x-python",
   "name": "python",
   "nbconvert_exporter": "python",
   "pygments_lexer": "ipython3",
   "version": "3.13.2"
  }
 },
 "nbformat": 4,
 "nbformat_minor": 5
}
