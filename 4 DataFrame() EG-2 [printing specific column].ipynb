{
 "cells": [
  {
   "cell_type": "code",
   "execution_count": 8,
   "id": "498ea0cd-6b20-43d6-8df6-2beffbff3f5d",
   "metadata": {},
   "outputs": [
    {
     "data": {
      "text/plain": [
       "Day 1    01-06-2025\n",
       "Day 2    02-06-2025\n",
       "Day 3    03-06-2025\n",
       "Day 4    04-06-2025\n",
       "Day 5    05-06-2025\n",
       "Name: Date, dtype: object"
      ]
     },
     "execution_count": 8,
     "metadata": {},
     "output_type": "execute_result"
    }
   ],
   "source": [
    "import pandas as pd\n",
    "df={\"Date\":[\"01-06-2025\",\"02-06-2025\",\"03-06-2025\",\"04-06-2025\",\"05-06-2025\"],\"Day\":[\"Sunday\",\"Monday\",\"Tuesday\",\"Wednesday\",\"Thursday\"],\"Temperature\":[37,34,32,36,33]}\n",
    "Dataset=pd.DataFrame(df,index=[\"Day 1\",\"Day 2\",\"Day 3\",\"Day 4\",\"Day 5\"])\n",
    "Dataset[\"Date\"]\n"
   ]
  },
  {
   "cell_type": "code",
   "execution_count": 9,
   "id": "fe94eb82-c0e6-4cdf-b7f9-3f6ba1f40832",
   "metadata": {},
   "outputs": [
    {
     "data": {
      "text/plain": [
       "Day 1    37\n",
       "Day 2    34\n",
       "Day 3    32\n",
       "Day 4    36\n",
       "Day 5    33\n",
       "Name: Temperature, dtype: int64"
      ]
     },
     "execution_count": 9,
     "metadata": {},
     "output_type": "execute_result"
    }
   ],
   "source": [
    "Dataset[\"Temperature\"]"
   ]
  },
  {
   "cell_type": "code",
   "execution_count": 10,
   "id": "b9942ae7-44be-4fd2-b8ae-d71355be7f6e",
   "metadata": {},
   "outputs": [
    {
     "data": {
      "text/html": [
       "<div>\n",
       "<style scoped>\n",
       "    .dataframe tbody tr th:only-of-type {\n",
       "        vertical-align: middle;\n",
       "    }\n",
       "\n",
       "    .dataframe tbody tr th {\n",
       "        vertical-align: top;\n",
       "    }\n",
       "\n",
       "    .dataframe thead th {\n",
       "        text-align: right;\n",
       "    }\n",
       "</style>\n",
       "<table border=\"1\" class=\"dataframe\">\n",
       "  <thead>\n",
       "    <tr style=\"text-align: right;\">\n",
       "      <th></th>\n",
       "      <th>Date</th>\n",
       "      <th>Day</th>\n",
       "      <th>Temperature</th>\n",
       "    </tr>\n",
       "  </thead>\n",
       "  <tbody>\n",
       "    <tr>\n",
       "      <th>Day 1</th>\n",
       "      <td>01-06-2025</td>\n",
       "      <td>Sunday</td>\n",
       "      <td>37</td>\n",
       "    </tr>\n",
       "    <tr>\n",
       "      <th>Day 2</th>\n",
       "      <td>02-06-2025</td>\n",
       "      <td>Monday</td>\n",
       "      <td>34</td>\n",
       "    </tr>\n",
       "    <tr>\n",
       "      <th>Day 3</th>\n",
       "      <td>03-06-2025</td>\n",
       "      <td>Tuesday</td>\n",
       "      <td>32</td>\n",
       "    </tr>\n",
       "    <tr>\n",
       "      <th>Day 4</th>\n",
       "      <td>04-06-2025</td>\n",
       "      <td>Wednesday</td>\n",
       "      <td>36</td>\n",
       "    </tr>\n",
       "    <tr>\n",
       "      <th>Day 5</th>\n",
       "      <td>05-06-2025</td>\n",
       "      <td>Thursday</td>\n",
       "      <td>33</td>\n",
       "    </tr>\n",
       "  </tbody>\n",
       "</table>\n",
       "</div>"
      ],
      "text/plain": [
       "             Date        Day  Temperature\n",
       "Day 1  01-06-2025     Sunday           37\n",
       "Day 2  02-06-2025     Monday           34\n",
       "Day 3  03-06-2025    Tuesday           32\n",
       "Day 4  04-06-2025  Wednesday           36\n",
       "Day 5  05-06-2025   Thursday           33"
      ]
     },
     "execution_count": 10,
     "metadata": {},
     "output_type": "execute_result"
    }
   ],
   "source": [
    "Dataset"
   ]
  },
  {
   "cell_type": "code",
   "execution_count": null,
   "id": "32f78e0d-0448-4927-9b10-5b187bfe4805",
   "metadata": {},
   "outputs": [],
   "source": []
  }
 ],
 "metadata": {
  "kernelspec": {
   "display_name": "Python 3 (ipykernel)",
   "language": "python",
   "name": "python3"
  },
  "language_info": {
   "codemirror_mode": {
    "name": "ipython",
    "version": 3
   },
   "file_extension": ".py",
   "mimetype": "text/x-python",
   "name": "python",
   "nbconvert_exporter": "python",
   "pygments_lexer": "ipython3",
   "version": "3.13.2"
  }
 },
 "nbformat": 4,
 "nbformat_minor": 5
}
