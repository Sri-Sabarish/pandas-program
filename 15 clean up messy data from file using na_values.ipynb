{
 "cells": [
  {
   "cell_type": "code",
   "execution_count": 3,
   "id": "7d1ca620-3c56-4e11-9c83-e4f5334d9b84",
   "metadata": {},
   "outputs": [
    {
     "name": "stderr",
     "output_type": "stream",
     "text": [
      "<>:2: SyntaxWarning: invalid escape sequence '\\s'\n",
      "<>:2: SyntaxWarning: invalid escape sequence '\\s'\n",
      "C:\\Users\\Naga-Meena-Sabari\\AppData\\Local\\Temp\\ipykernel_4328\\4188530888.py:2: SyntaxWarning: invalid escape sequence '\\s'\n",
      "  df=pd.read_csv(\"D:\\stock.csv\")\n"
     ]
    },
    {
     "data": {
      "text/html": [
       "<div>\n",
       "<style scoped>\n",
       "    .dataframe tbody tr th:only-of-type {\n",
       "        vertical-align: middle;\n",
       "    }\n",
       "\n",
       "    .dataframe tbody tr th {\n",
       "        vertical-align: top;\n",
       "    }\n",
       "\n",
       "    .dataframe thead th {\n",
       "        text-align: right;\n",
       "    }\n",
       "</style>\n",
       "<table border=\"1\" class=\"dataframe\">\n",
       "  <thead>\n",
       "    <tr style=\"text-align: right;\">\n",
       "      <th></th>\n",
       "      <th>Product_id</th>\n",
       "      <th>Name</th>\n",
       "      <th>Quantity</th>\n",
       "      <th>Price</th>\n",
       "    </tr>\n",
       "  </thead>\n",
       "  <tbody>\n",
       "    <tr>\n",
       "      <th>0</th>\n",
       "      <td>P123</td>\n",
       "      <td>Britania_biscuit</td>\n",
       "      <td>1 box</td>\n",
       "      <td>Rs.250</td>\n",
       "    </tr>\n",
       "    <tr>\n",
       "      <th>1</th>\n",
       "      <td>P469</td>\n",
       "      <td>Gold_winner</td>\n",
       "      <td>1 ltr</td>\n",
       "      <td>NaN</td>\n",
       "    </tr>\n",
       "    <tr>\n",
       "      <th>2</th>\n",
       "      <td>P178</td>\n",
       "      <td>Almond</td>\n",
       "      <td>not available</td>\n",
       "      <td>Rs.120</td>\n",
       "    </tr>\n",
       "    <tr>\n",
       "      <th>3</th>\n",
       "      <td>P50</td>\n",
       "      <td>Cashew</td>\n",
       "      <td>100 g</td>\n",
       "      <td>Rs.120</td>\n",
       "    </tr>\n",
       "  </tbody>\n",
       "</table>\n",
       "</div>"
      ],
      "text/plain": [
       "  Product_id              Name       Quantity   Price\n",
       "0       P123  Britania_biscuit          1 box  Rs.250\n",
       "1       P469       Gold_winner          1 ltr     NaN\n",
       "2       P178            Almond  not available  Rs.120\n",
       "3        P50            Cashew          100 g  Rs.120"
      ]
     },
     "execution_count": 3,
     "metadata": {},
     "output_type": "execute_result"
    }
   ],
   "source": [
    "import pandas as pd\n",
    "df=pd.read_csv(\"D:\\stock.csv\")\n",
    "df               "
   ]
  },
  {
   "cell_type": "code",
   "execution_count": 4,
   "id": "30f3ab86-f89b-4f3f-a861-9f11e8fe1286",
   "metadata": {},
   "outputs": [
    {
     "name": "stderr",
     "output_type": "stream",
     "text": [
      "<>:1: SyntaxWarning: invalid escape sequence '\\s'\n",
      "<>:1: SyntaxWarning: invalid escape sequence '\\s'\n",
      "C:\\Users\\Naga-Meena-Sabari\\AppData\\Local\\Temp\\ipykernel_4328\\1305252695.py:1: SyntaxWarning: invalid escape sequence '\\s'\n",
      "  new_df=pd.read_csv(\"D:\\stock.csv\",na_values=[\"not available\",\"na\"])\n"
     ]
    },
    {
     "data": {
      "text/html": [
       "<div>\n",
       "<style scoped>\n",
       "    .dataframe tbody tr th:only-of-type {\n",
       "        vertical-align: middle;\n",
       "    }\n",
       "\n",
       "    .dataframe tbody tr th {\n",
       "        vertical-align: top;\n",
       "    }\n",
       "\n",
       "    .dataframe thead th {\n",
       "        text-align: right;\n",
       "    }\n",
       "</style>\n",
       "<table border=\"1\" class=\"dataframe\">\n",
       "  <thead>\n",
       "    <tr style=\"text-align: right;\">\n",
       "      <th></th>\n",
       "      <th>Product_id</th>\n",
       "      <th>Name</th>\n",
       "      <th>Quantity</th>\n",
       "      <th>Price</th>\n",
       "    </tr>\n",
       "  </thead>\n",
       "  <tbody>\n",
       "    <tr>\n",
       "      <th>0</th>\n",
       "      <td>P123</td>\n",
       "      <td>Britania_biscuit</td>\n",
       "      <td>1 box</td>\n",
       "      <td>Rs.250</td>\n",
       "    </tr>\n",
       "    <tr>\n",
       "      <th>1</th>\n",
       "      <td>P469</td>\n",
       "      <td>Gold_winner</td>\n",
       "      <td>1 ltr</td>\n",
       "      <td>NaN</td>\n",
       "    </tr>\n",
       "    <tr>\n",
       "      <th>2</th>\n",
       "      <td>P178</td>\n",
       "      <td>Almond</td>\n",
       "      <td>NaN</td>\n",
       "      <td>Rs.120</td>\n",
       "    </tr>\n",
       "    <tr>\n",
       "      <th>3</th>\n",
       "      <td>P50</td>\n",
       "      <td>Cashew</td>\n",
       "      <td>100 g</td>\n",
       "      <td>Rs.120</td>\n",
       "    </tr>\n",
       "  </tbody>\n",
       "</table>\n",
       "</div>"
      ],
      "text/plain": [
       "  Product_id              Name Quantity   Price\n",
       "0       P123  Britania_biscuit    1 box  Rs.250\n",
       "1       P469       Gold_winner    1 ltr     NaN\n",
       "2       P178            Almond      NaN  Rs.120\n",
       "3        P50            Cashew    100 g  Rs.120"
      ]
     },
     "execution_count": 4,
     "metadata": {},
     "output_type": "execute_result"
    }
   ],
   "source": [
    "new_df=pd.read_csv(\"D:\\stock.csv\",na_values=[\"not available\",\"na\"])\n",
    "new_df"
   ]
  },
  {
   "cell_type": "code",
   "execution_count": null,
   "id": "a2d7eb89-ef83-4484-83d9-da8810f9d991",
   "metadata": {},
   "outputs": [],
   "source": []
  }
 ],
 "metadata": {
  "kernelspec": {
   "display_name": "Python 3 (ipykernel)",
   "language": "python",
   "name": "python3"
  },
  "language_info": {
   "codemirror_mode": {
    "name": "ipython",
    "version": 3
   },
   "file_extension": ".py",
   "mimetype": "text/x-python",
   "name": "python",
   "nbconvert_exporter": "python",
   "pygments_lexer": "ipython3",
   "version": "3.13.2"
  }
 },
 "nbformat": 4,
 "nbformat_minor": 5
}
